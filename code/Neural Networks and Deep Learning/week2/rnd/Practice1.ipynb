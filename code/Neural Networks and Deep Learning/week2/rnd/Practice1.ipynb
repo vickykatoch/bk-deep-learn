{
 "cells": [
  {
   "cell_type": "code",
   "execution_count": 103,
   "metadata": {},
   "outputs": [],
   "source": [
    "import numpy as np\n",
    "import matplotlib.pyplot as plt\n",
    "import h5py\n",
    "import scipy\n",
    "from PIL import Image\n",
    "from scipy import ndimage\n",
    "from utils import load_dataset\n",
    "import time\n",
    "%matplotlib inline"
   ]
  },
  {
   "cell_type": "markdown",
   "metadata": {},
   "source": [
    "**This excercise builds a logistic regression classifier to recognize cats. It includes:**\n",
    "\n",
    "* Initialize Parameters\n",
    "* Calculating the cost function and its gradient\n",
    "* Using an optimization algorithm (gradient descent)\n",
    "\n",
    "*Combine all above functions into a main model*\n",
    "\n",
    "**Overview of the Problem set**\n",
    "You are given a dataset (\"data.h5\") containing:\n",
    "\n",
    "- a training set of m_train images labeled as cat (y=1) or non-cat (y=0)\n",
    "- a test set of m_test images labeled as cat or non-cat\n",
    "- each image is of shape (num_px, num_px, 3) where 3 is for the 3 channels (RGB). Thus, each image is square (height = num_px) and (width = num_px).\n",
    "\n",
    "You will build a simple image-recognition algorithm that can correctly classify pictures as cat or non-cat."
   ]
  },
  {
   "cell_type": "code",
   "execution_count": 104,
   "metadata": {},
   "outputs": [
    {
     "name": "stdout",
     "output_type": "stream",
     "text": [
      "******************************************************************\n",
      "Training Dataset Shape (X) : (209, 64, 64, 3)\n",
      "Training Dataset Shape (y) : (1, 209)\n",
      "Test Dataset Shape (X) : (50, 64, 64, 3)\n",
      "Test Dataset Shape (y) : (1, 50)\n",
      "******************************************************************\n"
     ]
    }
   ],
   "source": [
    "train_set_x_orig, train_set_y_orig, test_set_x_orig, test_set_y_orig, classes = load_dataset()\n",
    "print(\"******************************************************************\")\n",
    "print(f\"Training Dataset Shape (X) : {train_set_x_orig.shape}\")\n",
    "print(f\"Training Dataset Shape (y) : {train_set_y_orig.shape}\")\n",
    "print(f\"Test Dataset Shape (X) : {test_set_x_orig.shape}\")\n",
    "print(f\"Test Dataset Shape (y) : {test_set_y_orig.shape}\")\n",
    "print(\"******************************************************************\")"
   ]
  },
  {
   "cell_type": "code",
   "execution_count": 95,
   "metadata": {},
   "outputs": [
    {
     "data": {
      "text/plain": [
       "<matplotlib.image.AxesImage at 0x7f596830c790>"
      ]
     },
     "execution_count": 95,
     "metadata": {},
     "output_type": "execute_result"
    },
    {
     "data": {
      "image/png": "[encoded data removed]",
      "text/plain": [
       "<Figure size 432x288 with 1 Axes>"
      ]
     },
     "metadata": {
      "needs_background": "light"
     },
     "output_type": "display_data"
    }
   ],
   "source": [
    "# Example of a picture\n",
    "index = 25\n",
    "plt.imshow(train_set_x_orig[index])"
   ]
  },
  {
   "cell_type": "markdown",
   "metadata": {},
   "source": [
    "**Find the values for:**\n",
    "- m_train (number of training examples)\n",
    "- m_test (number of test examples)\n",
    "- num_px (= height = width of a training image)\n"
   ]
  },
  {
   "cell_type": "code",
   "execution_count": 105,
   "metadata": {},
   "outputs": [
    {
     "name": "stdout",
     "output_type": "stream",
     "text": [
      "Training samples : 209, Test Samples : 50, Image size : 64 * 64 pixels\n"
     ]
    }
   ],
   "source": [
    "m_train = train_set_x_orig.shape[0]\n",
    "m_test = test_set_x_orig.shape[0]\n",
    "num_px = train_set_x_orig.shape[1]\n",
    "print(f\"Training samples : {m_train}, Test Samples : {m_test}, Image size : {num_px} * {num_px} pixels\")"
   ]
  },
  {
   "cell_type": "code",
   "execution_count": 97,
   "metadata": {},
   "outputs": [],
   "source": [
    "train_set_x_flatten = train_set_x_orig.reshape(m_train,-1).T\n",
    "test_set_x_flatten = test_set_x_orig.reshape(m_test,-1).T"
   ]
  },
  {
   "cell_type": "markdown",
   "metadata": {},
   "source": [
    "To represent color images, the red, green and blue channels (RGB) must be specified for each pixel, and so the pixel value is actually a vector of three numbers ranging from 0 to 255.\n",
    "\n",
    "One common preprocessing step in machine learning is to center and standardize your dataset, meaning that you substract the mean of the whole numpy array from each example, and then divide each example by the standard deviation of the whole numpy array. But for picture datasets, it is simpler and more convenient and works almost as well to just divide every row of the dataset by 255 (the maximum value of a pixel channel)."
   ]
  },
  {
   "cell_type": "code",
   "execution_count": 106,
   "metadata": {},
   "outputs": [],
   "source": [
    "train_set_x = train_set_x_flatten/255.\n",
    "test_set_x = test_set_x_flatten/255."
   ]
  },
  {
   "cell_type": "markdown",
   "metadata": {},
   "source": [
    "**Building the parts of our algorithm**\n",
    "\n",
    "The main steps for building a Neural Network are:\n",
    "\n",
    "1. Define the model structure (such as number of input features)\n",
    "2. Initialize the model's parameters\n",
    "3. Loop:\n",
    "    - Calculate current loss (forward propagation)\n",
    "    - Calculate current gradient (backward propagation)\n",
    "    - Update parameters (gradient descent)\n",
    "    \n",
    "You often build 1-3 separately and integrate them into one function we call model()."
   ]
  },
  {
   "cell_type": "markdown",
   "metadata": {},
   "source": [
    "**Formulas**\n",
    "\n",
    "1. Sigmoid Function: Takes an array/scalar value as input and returns the value(s) between the range or 0 and 1<br>\n",
    "   > Formula:\n",
    "     $sigmoid( w^T x + b) = \\frac{1}{1 + e^{-(w^T x + b)}}$\n",
    "2. Loss function:<br>     \n",
    "   > Formula: \n",
    "   $Loss(\\hat{y}, y) = y^{(i)}\\log(\\hat{y}^{(i)})+(1-y^{(i)})\\log(1-\\hat{y}^{(i)})$\n",
    "3. Cost Function:<br>\n",
    "   > Formula: \n",
    "   $J = -\\frac{1}{m}\\sum_{i=1}^{m}Loss(\\hat{y}, y)$<br>\n",
    "   or<br>\n",
    "   $J = -\\frac{1}{m}\\sum_{i=1}^{m}y^{(i)}\\log(\\hat{y}^{(i)})+(1-y^{(i)})\\log(1-\\hat{y}^{(i)})$\n",
    "   "
   ]
  },
  {
   "cell_type": "code",
   "execution_count": 140,
   "metadata": {},
   "outputs": [],
   "source": [
    "# Helper functions\n",
    "\n",
    "# Initialize parameters\n",
    "def init_weights_and_bias_with_zeros(dim):\n",
    "    w = np.zeros((dim,1))\n",
    "    b = 0\n",
    "    return w, b\n",
    "\n",
    "def sigmoid(z):\n",
    "    return 1 /(1 + np.exp(-z))\n",
    "\n",
    "def calc_loss(Y_hat, y):\n",
    "    return y * np.log(Y_hat) + (1 - y) * np.log(1 - Y_hat)\n",
    "\n",
    "def compute_cost(Y_hat, y, m):\n",
    "    return -(1/m) * np.sum(calc_loss(Y_hat, y))\n",
    "\n",
    "def compute_activation(w, X, b):\n",
    "    return sigmoid(np.dot(w.T, X)+b)\n",
    "\n",
    "def propagate(w, b, X, Y):\n",
    "    m = X.shape[1]\n",
    "    Y_hat = compute_activation(w,X,b)\n",
    "    cost = compute_cost(Y_hat, Y, m)\n",
    "    \n",
    "    # BACKWARD PROPAGATION (TO FIND GRAD)\n",
    "    dw = (1/m) * np.dot(X, (Y_hat - Y).T)\n",
    "    db = (1/m) * np.sum(Y_hat - Y)\n",
    "    grads = {\n",
    "        \"dw\" : dw,\n",
    "        \"db\" : db\n",
    "    }\n",
    "    return  cost, grads\n",
    "\n",
    "def optimize():\n",
    "    pass"
   ]
  },
  {
   "cell_type": "code",
   "execution_count": 141,
   "metadata": {},
   "outputs": [
    {
     "data": {
      "text/plain": [
       "(5.801545319394553,\n",
       " {'dw': array([[0.99845601],\n",
       "         [2.39507239]]), 'db': 0.001455578136784208})"
      ]
     },
     "execution_count": 141,
     "metadata": {},
     "output_type": "execute_result"
    }
   ],
   "source": [
    "w, b, X, Y = np.array([[1.],[2.]]), 2., np.array([[1.,2.,-1.],[3.,4.,-3.2]]), np.array([[1,0,1]])\n",
    "propagate(w, b, X, Y)\n",
    "# A = sigmoid(np.dot(w.T, X)+b)\n",
    "# print(compute_activation(w,X,b))\n",
    "# print(A)\n",
    "\n",
    "# # print(calc_cost(A,Y,m))\n",
    "\n",
    "# print(A)\n",
    "# m = X.shape[1]\n",
    "# cost = - (1/m) * np.sum(calc_loss(A,Y))\n",
    "# cost1 = -(1/m) * np.sum(Y * np.log(A) + (1-Y) * np.log(1-A)) \n",
    "# print(cost)\n",
    "# print(cost1)\n",
    "# print(compute_cost(A,Y,m))"
   ]
  },
  {
   "cell_type": "code",
   "execution_count": 119,
   "metadata": {},
   "outputs": [
    {
     "data": {
      "text/plain": [
       "0.8807970779778823"
      ]
     },
     "execution_count": 119,
     "metadata": {},
     "output_type": "execute_result"
    }
   ],
   "source": [
    "# Test sigmoid, output must be array([0.5       , 0.88079708])\n",
    "s = sigmoid(np.array([[0,2]]))\n",
    "assert(s.shape == (1, 2))\n",
    "assert(s[0,0] == 0.5)\n",
    "assert(s[0,1] == 0.8807970779778823)\n",
    "\n"
   ]
  },
  {
   "cell_type": "code",
   "execution_count": null,
   "metadata": {},
   "outputs": [],
   "source": []
  }
 ],
 "metadata": {
  "kernelspec": {
   "display_name": "Python 3",
   "language": "python",
   "name": "python3"
  },
  "language_info": {
   "codemirror_mode": {
    "name": "ipython",
    "version": 3
   },
   "file_extension": ".py",
   "mimetype": "text/x-python",
   "name": "python",
   "nbconvert_exporter": "python",
   "pygments_lexer": "ipython3",
   "version": "3.8.3"
  }
 },
 "nbformat": 4,
 "nbformat_minor": 4
}
