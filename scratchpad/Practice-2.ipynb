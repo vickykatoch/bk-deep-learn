{
 "cells": [
  {
   "cell_type": "code",
   "execution_count": 1,
   "metadata": {},
   "outputs": [],
   "source": [
    "import numpy as np\n",
    "import matplotlib.pyplot as plt\n",
    "import h5py\n",
    "from utils import *\n",
    "import lr_funcs as lr \n",
    "\n",
    "%load_ext autoreload\n",
    "%autoreload 2\n",
    "%matplotlib inline"
   ]
  },
  {
   "cell_type": "code",
   "execution_count": 2,
   "metadata": {},
   "outputs": [],
   "source": [
    "XTrain_Orig, YTrain, XTest_Orig, YTest, classes = load_datasets()\n",
    "XTrain = lr.reshape_features(XTrain_Orig)\n",
    "XTest = lr.reshape_features(XTest_Orig)\n",
    "parameters = {\n",
    "    'W' : lr.initialize_params(XTrain.shape[0]),\n",
    "    'b' : 0\n",
    "}"
   ]
  },
  {
   "cell_type": "code",
   "execution_count": 3,
   "metadata": {
    "scrolled": true
   },
   "outputs": [
    {
     "name": "stdout",
     "output_type": "stream",
     "text": [
      "======================TRAIN DATA [STARTS]===========================\n",
      "X Samples Count\t: 209\n",
      "X Image Dimention\t: 64 * 64\n",
      "X Shape \t: (209, 64, 64, 3)\n",
      "Y Samples Count\t: 209\n",
      "Y Shape \t: (1, 209)\n",
      "======================TRAIN DATA [STARTS]===========================\n",
      "\n",
      "======================TEST DATA [STARTS]===========================\n",
      "X Samples Count\t: 50\n",
      "X Image Dimention\t: 64 * 64\n",
      "X Shape \t: (50, 64, 64, 3)\n",
      "Y Samples Count\t: 50\n",
      "Y Shape \t: (1, 50)\n",
      "======================TEST DATA [STARTS]===========================\n",
      "\n"
     ]
    }
   ],
   "source": [
    "print_stats(XTrain_Orig, YTrain, XTest_Orig, YTest)"
   ]
  },
  {
   "cell_type": "code",
   "execution_count": 6,
   "metadata": {},
   "outputs": [
    {
     "data": {
      "text/plain": [
       "0.6931471805599453"
      ]
     },
     "execution_count": 6,
     "metadata": {},
     "output_type": "execute_result"
    }
   ],
   "source": [
    "# 1. Compute Z = W.T * X\n",
    "# 2. Compute sigmoid s(z) = 1/(1 + np.exp(-z))\n",
    "# 3. Compute Cost\n",
    "W = parameters['W']\n",
    "b = parameters['b']\n",
    "\n",
    "lr.propagate(XTrain, YTrain, W,b)"
   ]
  },
  {
   "cell_type": "code",
   "execution_count": null,
   "metadata": {},
   "outputs": [],
   "source": []
  }
 ],
 "metadata": {
  "kernelspec": {
   "display_name": "Python 3",
   "language": "python",
   "name": "python3"
  },
  "language_info": {
   "codemirror_mode": {
    "name": "ipython",
    "version": 3
   },
   "file_extension": ".py",
   "mimetype": "text/x-python",
   "name": "python",
   "nbconvert_exporter": "python",
   "pygments_lexer": "ipython3",
   "version": "3.8.3"
  }
 },
 "nbformat": 4,
 "nbformat_minor": 4
}
