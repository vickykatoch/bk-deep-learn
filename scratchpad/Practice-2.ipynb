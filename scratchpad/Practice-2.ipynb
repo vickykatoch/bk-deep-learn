{
 "cells": [
  {
   "cell_type": "code",
   "execution_count": 5,
   "metadata": {},
   "outputs": [
    {
     "name": "stdout",
     "output_type": "stream",
     "text": [
      "The autoreload extension is already loaded. To reload it, use:\n",
      "  %reload_ext autoreload\n"
     ]
    }
   ],
   "source": [
    "import numpy as np\n",
    "import matplotlib.pyplot as plt\n",
    "import h5py\n",
    "from utils import *\n",
    "import lr_funcs as lr \n",
    "\n",
    "%load_ext autoreload\n",
    "%autoreload 2\n",
    "%matplotlib inline"
   ]
  },
  {
   "cell_type": "code",
   "execution_count": 15,
   "metadata": {},
   "outputs": [],
   "source": [
    "XTrain_Orig, YTrain, XTest_Orig, YTest, classes = load_datasets()\n",
    "XTrain = lr.reshape_features(XTrain_Orig)\n",
    "XTest = lr.reshape_features(XTest_Orig)\n",
    "parameters = {\n",
    "    'W' : lr.initialize_params(XTrain.shape[0]),\n",
    "    'b' : 0\n",
    "}"
   ]
  },
  {
   "cell_type": "code",
   "execution_count": 3,
   "metadata": {
    "scrolled": true
   },
   "outputs": [
    {
     "name": "stdout",
     "output_type": "stream",
     "text": [
      "======================TRAIN DATA [STARTS]===========================\n",
      "X Samples Count\t: 209\n",
      "X Image Dimention\t: 64 * 64\n",
      "X Shape \t: (209, 64, 64, 3)\n",
      "Y Samples Count\t: 209\n",
      "Y Shape \t: (1, 209)\n",
      "======================TRAIN DATA [STARTS]===========================\n",
      "\n",
      "======================TEST DATA [STARTS]===========================\n",
      "X Samples Count\t: 50\n",
      "X Image Dimention\t: 64 * 64\n",
      "X Shape \t: (50, 64, 64, 3)\n",
      "Y Samples Count\t: 50\n",
      "Y Shape \t: (1, 50)\n",
      "======================TEST DATA [STARTS]===========================\n",
      "\n"
     ]
    }
   ],
   "source": [
    "print_stats(XTrain_Orig, YTrain, XTest_Orig, YTest)"
   ]
  },
  {
   "cell_type": "code",
   "execution_count": 38,
   "metadata": {},
   "outputs": [
    {
     "data": {
      "text/plain": [
       "0.6931471805599453"
      ]
     },
     "execution_count": 38,
     "metadata": {},
     "output_type": "execute_result"
    }
   ],
   "source": [
    "# 1. Compute Z = W.T * X\n",
    "# 2. Compute sigmoid s(z) = 1/(1 + np.exp(-z))\n",
    "# 3. Compute Cost\n",
    "\n",
    "W = parameters['W']\n",
    "b = parameters['b']\n",
    "\n",
    "Z = W.T @ XTrain\n",
    "A = lr.sigmoid(Z)\n",
    "cost = lr.compute_cost(A, YTrain, XTrain.shape[1])\n",
    "cost"
   ]
  },
  {
   "cell_type": "code",
   "execution_count": 37,
   "metadata": {},
   "outputs": [
    {
     "name": "stdout",
     "output_type": "stream",
     "text": [
      "[[0.99987661 0.99999386 0.00449627]]\n",
      "5.801545319394553\n"
     ]
    },
    {
     "data": {
      "text/plain": [
       "5.801545319394553"
      ]
     },
     "execution_count": 37,
     "metadata": {},
     "output_type": "execute_result"
    }
   ],
   "source": [
    "w, b, X, Y = np.array([[1.],[2.]]), 2., np.array([[1.,2.,-1.],[3.,4.,-3.2]]), np.array([[1,0,1]])\n",
    "m = X.shape[1]\n",
    "A = lr.sigmoid(np.dot(w.T,X) + b)                      # compute activation \n",
    "print(A)\n",
    "cost = -(1/m) * np.sum(Y * np.log(A) + (1-Y) * np.log(1-A))        # compute cost\n",
    "print(cost)\n",
    "# YHat = lr.sigmoid(np.dot(w.T,X) + b) \n",
    "# print(YHat)\n",
    "lr.compute_cost(A,Y,X.shape[1])"
   ]
  },
  {
   "cell_type": "code",
   "execution_count": 36,
   "metadata": {},
   "outputs": [
    {
     "data": {
      "text/plain": [
       "5.801545319394553"
      ]
     },
     "execution_count": 36,
     "metadata": {},
     "output_type": "execute_result"
    }
   ],
   "source": [
    "# -(Y * np.log(Yhat) + (1-Y) * (1-Yhat))\n",
    "l = - ( Y * np.log(A) +( (1-Y) * np.log(1-A)))\n",
    "np.sum(l)/m"
   ]
  },
  {
   "cell_type": "code",
   "execution_count": null,
   "metadata": {},
   "outputs": [],
   "source": []
  }
 ],
 "metadata": {
  "kernelspec": {
   "display_name": "Python 3",
   "language": "python",
   "name": "python3"
  },
  "language_info": {
   "codemirror_mode": {
    "name": "ipython",
    "version": 3
   },
   "file_extension": ".py",
   "mimetype": "text/x-python",
   "name": "python",
   "nbconvert_exporter": "python",
   "pygments_lexer": "ipython3",
   "version": "3.8.3"
  }
 },
 "nbformat": 4,
 "nbformat_minor": 4
}
